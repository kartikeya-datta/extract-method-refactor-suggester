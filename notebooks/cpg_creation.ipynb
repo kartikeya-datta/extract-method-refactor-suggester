{
 "cells": [
  {
   "cell_type": "markdown",
   "id": "7a58ef2c",
   "metadata": {},
   "source": [
    "In this file I will create a CPG file from the java dataset I have downoaded from the repository\n",
    "\n",
    "https://github.com/ASSERT-KTH/CodRep"
   ]
  },
  {
   "cell_type": "markdown",
   "id": "881dd71e",
   "metadata": {},
   "source": [
    "The java files are in txt file format. So lets convert it into .java format. We can use the following command to do this in terminal for all the datasets:"
   ]
  },
  {
   "cell_type": "code",
   "execution_count": null,
   "id": "e12e9334",
   "metadata": {},
   "outputs": [],
   "source": [
    "(base) kartikeyadatta@Mac Tasks % find /Users/path locartion.../data/code-rep-dataset/Dataset5/Tasks -name '*.txt' -exec bash -c 'for f; do mv \"$f\" \"${f%.txt}.java\"; done' bash {} +"
   ]
  },
  {
   "cell_type": "markdown",
   "id": "83a1d368",
   "metadata": {},
   "source": [
    "Lets generate a Joern file from the java data we have collected"
   ]
  },
  {
   "cell_type": "code",
   "execution_count": null,
   "id": "4fe02e59",
   "metadata": {},
   "outputs": [],
   "source": [
    "(base) kartikeyadatta@Mac Tasks % joern --generate-cpg --language java --project-name dataset_cpg /Users/path for the folder... /data/code-rep-data"
   ]
  },
  {
   "cell_type": "markdown",
   "id": "3fc4aab5",
   "metadata": {},
   "source": [
    "Load the CPG File: To load the CPG file and start interacting with it, I used Joern’s built-in features. Since I already have the cpg.bin file, I can load it with Joern’s scripting API."
   ]
  },
  {
   "cell_type": "code",
   "execution_count": 5,
   "id": "e510afdd",
   "metadata": {},
   "outputs": [
    {
     "name": "stdout",
     "output_type": "stream",
     "text": [
      "Welcome to Scala 3.6.4 (23.0.2, Java OpenJDK 64-Bit Server VM).\n",
      "Type in expressions for evaluation. Or try :help.\n",
      "\u001b[?2004h[90m~\u001b[0m                                                                               \n",
      "\u001b[34mscala> \u001b[0m\n",
      "\u001b[?1l\u001b>\u001b[?1000l\u001b[?2004l"
     ]
    }
   ],
   "source": [
    "!scala"
   ]
  },
  {
   "cell_type": "code",
   "execution_count": null,
   "id": "ba55f80d",
   "metadata": {},
   "outputs": [
    {
     "ename": "SyntaxError",
     "evalue": "invalid syntax (1825618756.py, line 6)",
     "output_type": "error",
     "traceback": [
      "\u001b[0;36m  Cell \u001b[0;32mIn[6], line 6\u001b[0;36m\u001b[0m\n\u001b[0;31m    val cpg = CpgLoader.load(\"/Users/kartikeyadatta/Documents/GitHub/extract-method-refactor-suggester/data/code-rep-dataset/cpg.bin\")\u001b[0m\n\u001b[0m        ^\u001b[0m\n\u001b[0;31mSyntaxError\u001b[0m\u001b[0;31m:\u001b[0m invalid syntax\n"
     ]
    }
   ],
   "source": [
    "val cpg = CpgLoader.load(\"/path/to/cpg.bin\")"
   ]
  },
  {
   "cell_type": "markdown",
   "id": "8a1f4248",
   "metadata": {},
   "source": [
    "Step 2: Extract Features from the CPG\n",
    "Now that the CPG is loaded, let’s extract the features required for refactoring suggestions.\n",
    "\n",
    "Here are the features we will extract:\n",
    "\n",
    "Method Length: Number of lines of code in a method.\n",
    "\n",
    "Cyclomatic Complexity: A measure of the complexity of the method.\n",
    "\n",
    "Repetitive Code: Identifying duplicate code within methods.\n",
    "\n",
    "Nesting Levels: The depth of nested structures inside a method.\n",
    "\n",
    "Number of Variables: The number of variables declared within a method.\n",
    "\n",
    "You can extract these features using the Joern query language, which works similarly to SQL and is based on the GraphQL query language.\n",
    "\n",
    "1. Method Length (Lines of Code):\n",
    "We will query the methods in the CPG and count their lines:"
   ]
  },
  {
   "cell_type": "code",
   "execution_count": null,
   "id": "c0e783a9",
   "metadata": {},
   "outputs": [],
   "source": [
    "val methodLength = cpg.method.map(m => (m.name, m.lineCount))"
   ]
  },
  {
   "cell_type": "markdown",
   "id": "b3264134",
   "metadata": {},
   "source": [
    "This query will return the name of each method along with its number of lines of code.\n",
    "\n",
    "2. Cyclomatic Complexity:\n",
    "Cyclomatic Complexity is a measure of the number of linearly independent paths through a method. Joern computes this complexity automatically as part of its analysis. You can extract it as follows:"
   ]
  },
  {
   "cell_type": "code",
   "execution_count": null,
   "id": "6cf2d063",
   "metadata": {},
   "outputs": [],
   "source": [
    "val cyclomaticComplexity = cpg.method.map(m => (m.name, m.cyclomaticComplexity))"
   ]
  },
  {
   "cell_type": "markdown",
   "id": "985385dc",
   "metadata": {},
   "source": [
    "3. Repetitive Code:\n",
    "To find duplicate code, you can search for repeated methods or code blocks. For simplicity, let's assume we are looking for methods that are similar:"
   ]
  },
  {
   "cell_type": "code",
   "execution_count": null,
   "id": "22543cd2",
   "metadata": {},
   "outputs": [],
   "source": [
    "val duplicateMethods = cpg.method\n",
    "  .groupBy(m => m.code)\n",
    "  .filter{ case (_, methods) => methods.size > 1 }\n",
    "  .map{ case (code, methods) => (code, methods.map(_.name)) }"
   ]
  },
  {
   "cell_type": "markdown",
   "id": "637efd37",
   "metadata": {},
   "source": [
    "This will return methods that have the same code (repeated code blocks) and list them together.\n",
    "\n",
    "4. Nesting Levels:\n",
    "Nesting levels refer to how deeply nested the code is (e.g., inside loops or conditionals). You can extract this by analyzing control flow structures:"
   ]
  },
  {
   "cell_type": "code",
   "execution_count": null,
   "id": "3ad81064",
   "metadata": {},
   "outputs": [],
   "source": [
    "val nestingLevels = cpg.method.map(m => (m.name, m.controlStructureDepth))"
   ]
  },
  {
   "cell_type": "markdown",
   "id": "9cc38b88",
   "metadata": {},
   "source": [
    "5. Number of Variables:\n",
    "To get the number of variables in each method, you can query for the variables declared inside a method:"
   ]
  },
  {
   "cell_type": "code",
   "execution_count": null,
   "id": "f3018be4",
   "metadata": {},
   "outputs": [],
   "source": [
    "val numberOfVariables = cpg.method.map(m => (m.name, m.local.variable.size))"
   ]
  },
  {
   "cell_type": "markdown",
   "id": "950b62e3",
   "metadata": {},
   "source": [
    "Step 3: Heuristic Labeling\n",
    "Once I've extracted the necessary features from the CPG, you can label methods as \"refactorable\" or \"not refactorable\" based on some heuristics. For example:\n",
    "\n",
    "Long Methods: Methods with more than 20 lines can be flagged.\n",
    "\n",
    "High Cyclomatic Complexity: Methods with a cyclomatic complexity greater than 10 can be flagged.\n",
    "\n",
    "Repeated Code: If the method contains duplicate code blocks, flag it.\n",
    "\n",
    "A simple heuristic labeling function might look like this:"
   ]
  },
  {
   "cell_type": "code",
   "execution_count": null,
   "id": "2200a343",
   "metadata": {},
   "outputs": [],
   "source": [
    "val labels = methodLength.map { case (name, length) =>\n",
    "   val cyclomatic = cyclomaticComplexity.find(c => c._1 == name).map(_._2).getOrElse(0)\n",
    "   val isRefactorable = if (length > 20 || cyclomatic > 10) 1 else 0\n",
    "   (name, isRefactorable)\n",
    "}"
   ]
  },
  {
   "cell_type": "markdown",
   "id": "c47cd9d6",
   "metadata": {},
   "source": [
    "This will give you a binary label (1 for \"refactorable\", 0 for \"not refactorable\") for each method based on its length and cyclomatic complexity.\n",
    "\n",
    "Step 4: Prepare Data for Machine Learning\n",
    "With the extracted features and labels, you can now create a dataset for your machine learning model. For each method, you'll have a feature vector and a corresponding label (1 or 0).\n",
    "\n",
    "The structure will look something like this:\n",
    "\n",
    "| Method Name | Length | Cyclomatic Complexity | Nesting Level | Number of Variables | Is Refactorable |\n",
    "|-------------|--------|------------------------|----------------|----------------------|------------------|\n",
    "| methodA     | 30     | 12                     | 3              | 5                    | 1                |\n",
    "| methodB     | 10     | 2                      | 1              | 2                    | 0                |\n",
    "| methodC     | 25     | 11                     | 4              | 4                    | 1                |\n",
    "\n",
    "You can then save this data into a CSV or a DataFrame (using Scala or Python) for training the machine learning model.\n",
    "\n",
    "Step 5: Save Features and Labels for Model Training\n",
    "You can save this data into a CSV file for easier processing later:"
   ]
  },
  {
   "cell_type": "code",
   "execution_count": null,
   "id": "8021613a",
   "metadata": {},
   "outputs": [],
   "source": [
    "import java.io._\n",
    "val writer = new PrintWriter(new File(\"method_features.csv\"))\n",
    "writer.write(\"method_name,length,cyclomatic_complexity,nesting_level,num_variables,is_refactorable\\n\")\n",
    "\n",
    "featuresAndLabels.foreach { case (name, length, cyclomatic, nesting, variables, label) =>\n",
    "  writer.write(s\"$name,$length,$cyclomatic,$nesting,$variables,$label\\n\")\n",
    "}\n",
    "\n",
    "writer.close()"
   ]
  },
  {
   "cell_type": "markdown",
   "id": "0954642a",
   "metadata": {},
   "source": [
    "Next Steps:\n",
    "Feature Engineering: If necessary, normalize or standardize the features (e.g., scaling the length or cyclomatic complexity).\n",
    "\n",
    "Train a Model: Use the extracted features and labels to train a machine learning model (e.g., Logistic Regression, Random Forest, etc.).\n",
    "\n",
    "Evaluation: After training, evaluate the model using performance metrics such as accuracy, precision, recall, etc."
   ]
  }
 ],
 "metadata": {
  "kernelspec": {
   "display_name": "Python 3",
   "language": "python",
   "name": "python3"
  },
  "language_info": {
   "codemirror_mode": {
    "name": "ipython",
    "version": 3
   },
   "file_extension": ".py",
   "mimetype": "text/x-python",
   "name": "python",
   "nbconvert_exporter": "python",
   "pygments_lexer": "ipython3",
   "version": "3.9.6"
  }
 },
 "nbformat": 4,
 "nbformat_minor": 5
}
