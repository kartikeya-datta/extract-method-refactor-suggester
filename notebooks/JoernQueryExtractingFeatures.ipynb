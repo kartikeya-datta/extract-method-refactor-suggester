{
 "cells": [
  {
   "cell_type": "markdown",
   "id": "45a43a68",
   "metadata": {},
   "source": [
    "I have executed the following in JOERN to extract the features from the cpg.bon file which I generated from the java dataset I have extracted from the database"
   ]
  },
  {
   "cell_type": "code",
   "execution_count": null,
   "id": "b0131995",
   "metadata": {
    "vscode": {
     "languageId": "plaintext"
    }
   },
   "outputs": [],
   "source": [
    "import java.io._\n",
    "import scala.collection.mutable.ListBuffer\n",
    "\n",
    "// Load the Code Property Graph (CPG)\n",
    "val cpg = CpgLoader.load(\"/Users/kartikeyadatta/Documents/GitHub/extract-method-refactor-suggester/cpg.bin\")\n",
    "\n",
    "// ListBuffer to hold all extracted features\n",
    "val features = ListBuffer[String]()\n",
    "\n",
    "// Header for the CSV file\n",
    "features += \"method_name,num_params,line_number,num_calls,num_locals,num_returns,num_invocations,body_size,num_control_structures,full_name\"\n",
    "\n",
    "// Extracting features from methods\n",
    "cpg.method.foreach { m =>\n",
    "  val methodName = m.name\n",
    "  val numParams = m.parameter.size\n",
    "  val lineNumber = m.lineNumber\n",
    "  val numCalls = m.ast.isCall.size\n",
    "  val numLocals = m.local.size\n",
    "  val numReturns = m.ast.isReturn.size\n",
    "  // Updated method invocation query: look for 'Call' nodes (method invocations)\n",
    "  val numInvocations = m.ast.isCall.size\n",
    "  val bodySize = m.ast.size\n",
    "  val numControlStructures = m.ast.isControlStructure.size\n",
    "  val fullName = m.fullName\n",
    "  \n",
    "  // Combine extracted features into a CSV row\n",
    "  val row = s\"$methodName,$numParams,$lineNumber,$numCalls,$numLocals,$numReturns,$numInvocations,$bodySize,$numControlStructures,$fullName\"\n",
    "  features += row\n",
    "}\n",
    "\n",
    "// Write to CSV file\n",
    "val writer = new PrintWriter(new File(\"/Users/kartikeyadatta/Documents/GitHub/extract-method-refactor-suggester/features_output.csv\"))\n",
    "features.foreach(writer.println)\n",
    "writer.close()\n",
    "\n",
    "println(\"Features extracted and saved to CSV.\")\n"
   ]
  },
  {
   "cell_type": "markdown",
   "id": "a016859f",
   "metadata": {},
   "source": [
    "The following code iterates Through Each Method in the CPG:\n",
    "cpg.method.foreach { m => ... } goes through each method in the loaded code.\n",
    "\n",
    "For each method m, the code extracts the following features:\n",
    "\n",
    "methodName: The name of the method.\n",
    "\n",
    "numParams: The number of parameters the method takes.\n",
    "\n",
    "lineNumber: The line number where the method is defined.\n",
    "\n",
    "numCalls: The number of method calls within the method (this looks for call nodes in the AST).\n",
    "\n",
    "numLocals: The number of local variables in the method.\n",
    "\n",
    "numReturns: The number of return statements in the method.\n",
    "\n",
    "numInvocations: The number of method calls in the method (same as numCalls).\n",
    "\n",
    "bodySize: The size of the method body (total number of AST nodes).\n",
    "\n",
    "numControlStructures: The number of control structures (like if, for, while) inside the method.\n",
    "\n",
    "fullName: The full name of the method (including class and method name).\n",
    "\n",
    "and them Builds a Row for Each Method\n",
    "Writes the Data to a CSV File and finally Prints a Success Message."
   ]
  },
  {
   "cell_type": "markdown",
   "id": "31eeee38",
   "metadata": {},
   "source": [
    "The code extracts various characteristics (like method name, number of parameters, number of calls, etc.) from each method in the provided codebase.\n",
    "\n",
    "These extracted features are saved into a CSV file (features_output.csv), which can then be used for further analysis,for training a machine learning model for \"Extract Method\" refactoring suggestions."
   ]
  }
 ],
 "metadata": {
  "language_info": {
   "name": "python"
  }
 },
 "nbformat": 4,
 "nbformat_minor": 5
}
